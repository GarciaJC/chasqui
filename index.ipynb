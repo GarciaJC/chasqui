{
 "cells": [
  {
   "cell_type": "code",
   "execution_count": 7,
   "metadata": {},
   "outputs": [],
   "source": [
    "#| hide\n",
    "from chasqui import *"
   ]
  },
  {
   "cell_type": "markdown",
   "metadata": {},
   "source": [
    "# Chasqui\n",
    "\n",
    "> A lightweight workflow automation system for computational materials science"
   ]
  },
  {
   "cell_type": "markdown",
   "metadata": {},
   "source": [
    "`chasqui` helps you manage VASP calculations on remote HPC clusters with PBS queue systems. It handles job submission, monitors queue status, and tracks results—all while respecting strict authentication requirements and queue limits.\n",
    "\n",
    "**Key features:**\n",
    "- Local SQLite database tracks all jobs\n",
    "- Batched SSH operations (2FA-friendly)\n",
    "- Self-perpetuating remote queue (no cron needed)\n",
    "- Automatic overflow management (respects PBS limits)\n",
    "- Simple CLI for everyday tasks\n",
    "\n",
    "### The Need for Simple Workflow Systems\n",
    "\n",
    "Running computational materials calculations on HPC clusters often involves:\n",
    "- Submitting hundreds of jobs with varying parameters\n",
    "- Monitoring queue status across multiple runs\n",
    "- Managing data transfer between local and remote systems\n",
    "- Respecting queue policies (maximum jobs, walltime limits)\n",
    "- Dealing with authentication barriers (2FA, SSH keys)\n",
    "\n",
    "Existing workflow systems like AiiDA, FireWorks, or Snakemake are powerful but can be heavy—requiring databases, web servers, or complex configuration. For individual researchers or small groups, there's a gap: **we need something lightweight, transparent, and easy to understand.**\n",
    "\n",
    "`chasqui` fills this gap by embracing simplicity:\n",
    "\n",
    "- **Single SQLite file** - no database server\n",
    "- **Plain bash scripts** - no daemons or background processes\n",
    "- **SSH and PBS only** - standard HPC tools \n",
    "- **Literate programming** - readable notebooks, not opaque frameworks\n",
    "\n",
    "### Why \"Chasqui\"?\n",
    "\n",
    "The name comes from the **chasqui** (also *chaski*), the relay messengers of the Inca Empire. These runners formed a sophisticated communication network spanning thousands of kilometers across the Andes, carrying messages and small goods between administrative centers. Chasquis often carried **khipus** (*quipus*)—intricate systems of knotted strings that encoded numerical data, records, and possibly narratives. \n",
    "\n",
    "### Design Philosophy\n",
    "\n",
    "1. **Transparency** — You should understand what's happening  \n",
    "2. **Simplicity** — Fewer moving parts means less to break  \n",
    "3. **Flexibility** — Work with your HPC environment, not against it  \n",
    "4. **Literate** — Code as documentation, documentation as code  \n",
    "\n",
    "`chasqui` isn't trying to be the most feature-rich workflow system. It's trying to be the one you can **debug at 2 AM when your calculations are due**, understand six months later when you return to a project, and modify when your HPC center changes queue policies."
   ]
  },
  {
   "cell_type": "markdown",
   "metadata": {},
   "source": [
    "## Usage"
   ]
  },
  {
   "cell_type": "markdown",
   "metadata": {},
   "source": [
    "### Installation"
   ]
  },
  {
   "cell_type": "markdown",
   "metadata": {},
   "source": [
    "Install latest from the GitHub [repository][repo]:\n",
    "\n",
    "```sh\n",
    "$ pip install git+https://github.com/{{user}}/{{lib_name}}.git\n",
    "```\n",
    "\n",
    "or from [conda][conda]\n",
    "\n",
    "```sh\n",
    "$ conda install -c {{user}} {{lib_path}}\n",
    "```\n",
    "\n",
    "or from [pypi][pypi]\n",
    "\n",
    "\n",
    "```sh\n",
    "$ pip install {{lib_path}}\n",
    "```\n",
    "\n",
    "\n",
    "[repo]: {{git_url}}\n",
    "[docs]: https://{{user}}.github.io/{{lib_name}}/\n",
    "[pypi]: https://pypi.org/project/{{lib_name}}/\n",
    "[conda]: https://anaconda.org/{{user}}/{{lib_name}}"
   ]
  },
  {
   "cell_type": "markdown",
   "metadata": {},
   "source": [
    "## How to use"
   ]
  },
  {
   "cell_type": "markdown",
   "metadata": {},
   "source": [
    "Fill me in please! Don't forget code examples:"
   ]
  },
  {
   "cell_type": "code",
   "execution_count": 8,
   "metadata": {},
   "outputs": [
    {
     "data": {
      "text/plain": [
       "3"
      ]
     },
     "execution_count": 8,
     "metadata": {},
     "output_type": "execute_result"
    }
   ],
   "source": [
    "1+1+1"
   ]
  },
  {
   "cell_type": "markdown",
   "metadata": {},
   "source": [
    "### Documentation"
   ]
  },
  {
   "cell_type": "markdown",
   "metadata": {},
   "source": [
    "Documentation can be found hosted on this GitHub [repository][repo]'s [pages][docs]. Additionally you can find package manager specific guidelines on [conda][conda] and [pypi][pypi] respectively.\n",
    "\n",
    "[repo]: https://github.com/GarciaJC/chasqui\n",
    "[docs]: https://garciajc.github.io/chasqui/\n",
    "[pypi]: https://pypi.org/project/{{lib_name}}/\n",
    "[conda]: https://anaconda.org/{{user}}/{{lib_name}}"
   ]
  }
 ],
 "metadata": {
  "kernelspec": {
   "display_name": "python3",
   "language": "python",
   "name": "python3"
  },
  "language_info": {
   "name": ""
  }
 },
 "nbformat": 4,
 "nbformat_minor": 4
}
